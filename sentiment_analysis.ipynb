{
 "cells": [
  {
   "cell_type": "code",
   "execution_count": 58,
   "metadata": {},
   "outputs": [],
   "source": [
    "from langchain import PromptTemplate\n",
    "from langchain.llms import OpenAI"
   ]
  },
  {
   "cell_type": "code",
   "execution_count": 91,
   "metadata": {},
   "outputs": [],
   "source": [
    "llm = OpenAI(model_name='text-davinci-003',\n",
    "             temperature=0.9,\n",
    "             max_tokens=2048)"
   ]
  },
  {
   "cell_type": "code",
   "execution_count": 95,
   "metadata": {},
   "outputs": [],
   "source": [
    "journal_template = \"\"\"\n",
    "    You will be provided with text delimited by <>.\n",
    "    If it looks like a student’s journal entry, perform the following tasks:\n",
    "\n",
    "    1. Determine if the text is a genuine student's journal entry or not. \n",
    "    Provide a brief explanation for your answer. Note that this app is intended for personal reflection and growth, \\\n",
    "    and should not be used to complete homework or assignments. If you suspect that a student is attempting to misuse the app, \\\n",
    "    please do not provide any solutions or answers related to homework or assignments. \\\n",
    "    Further, if you detect any signs of concern that the teacher should be aware of, such as allusions or descriptions of events like \\\n",
    "    suicide, abuse, self-harm or mental illness, flag it as a genuine journal entry immediately. \\\n",
    "    If the input is not a genuine journal entry, return False in the relevant field and Null for all other fields.\n",
    "\n",
    "    2. If it is a student's journal entry, then perform the following tasks:\n",
    "       a) Identify and create lists of all positive, neutral, and negative events described in the text\n",
    "       b) Generate an overall sentiment score for the text and provide a brief explanation for how the sentiment score was computed\n",
    "       c) Detect and flag any concerning events that may have been mentioned or alluded to in the entry, such as bullying or abuse.\n",
    "\n",
    "    Please note that the sentiment score range is from 0 to 1.\n",
    "\n",
    "    Give your output in JSON format. Two examples are provided below:\n",
    "    \n",
    "    Example 1:\n",
    "    \n",
    "    The output should be in JSON format with keys 'journal_entry', 'sentiment', and 'events'. The 'journal_entry' key should have sub-keys 'is_genuine' and 'explanation'. The 'sentiment' key should have sub-key 'score' with a range of 0 to 1, and sub-key 'explanation'. The 'events' key should have sub-keys 'positive', 'neutral', 'negative', and 'concerning'. Each of these sub-keys should have sub-keys 'count' and 'list', where 'count' represents the number of events in the category and 'list' contains the text of each event.\n",
    "    \n",
    "    Example 2:\n",
    "    \n",
    "    The output should be in JSON format with keys 'journal_entry', 'sentiment', and 'events'. The 'journal_entry' key should have sub-keys 'is_genuine' and 'explanation'. The 'sentiment' key should be set to null, and the 'events' key should be set to null.\n",
    "\n",
    "    Journal Entry: <{entry}>\n",
    "    \"\"\""
   ]
  },
  {
   "cell_type": "code",
   "execution_count": 96,
   "metadata": {},
   "outputs": [],
   "source": [
    "journal_prompt = PromptTemplate(\n",
    "    input_variables=[\"entry\"],\n",
    "    template=journal_template,\n",
    ")"
   ]
  },
  {
   "cell_type": "code",
   "execution_count": 88,
   "metadata": {},
   "outputs": [],
   "source": [
    "sample_01 = \"I had a really good day today! I woke up early and went for a jog in the park. The weather was perfect - not too hot or too cold. After my run, I came home and made myself a healthy breakfast. Then, I spent the rest of the day working on my art project. I'm really happy with how it's turning out. Later, I went out for dinner with some friends and we had a great time. Overall, it was a productive and enjoyable day.\""
   ]
  },
  {
   "cell_type": "code",
   "execution_count": 81,
   "metadata": {},
   "outputs": [
    {
     "data": {
      "text/plain": [
       "\"\\n    You will be provided with text delimited by <>.\\n    If it looks like a student’s journal entry, perform the following tasks:\\n\\n    1. Determine if the text is a genuine student's journal entry or not. \\n    Provide a brief explanation for your answer. Note that this app is intended for personal reflection and growth,     and should not be used to complete homework or assignments. If you suspect that a student is attempting to misuse the app,     please do not provide any solutions or answers related to homework or assignments.     If the input is not a genuine journal entry, return False in the relevant field and Null for all other fields.\\n\\n    2. If it is a student's journal entry, then perform the following tasks:\\n       a) Identify and create lists of all positive, neutral, and negative events described in the text\\n       b) Generate an overall sentiment score for the text and provide a brief explanation for how the sentiment score was computed\\n       c) Detect and flag any concerning events that may have been mentioned or alluded to in the entry, such as bullying or abuse.\\n\\n    Please note that the sentiment score range is from 0 to 1.\\n\\n    Give your output in JSON format. Two examples are provided below:\\n    \\n    Example 1:\\n    \\n    The output should be in JSON format with keys 'journal_entry', 'sentiment', and 'events'. The 'journal_entry' key should have sub-keys 'is_genuine' and 'explanation'. The 'sentiment' key should have sub-key 'score' with a range of 0 to 1, and sub-key 'explanation'. The 'events' key should have sub-keys 'positive', 'neutral', 'negative', and 'concerning'. Each of these sub-keys should have sub-keys 'count' and 'list', where 'count' represents the number of events in the category and 'list' contains the text of each event.\\n    \\n    Example 2:\\n    \\n    The output should be in JSON format with keys 'journal_entry', 'sentiment', and 'events'. The 'journal_entry' key should have sub-keys 'is_genuine' and 'explanation'. The 'sentiment' key should be set to null, and the 'events' key should be set to null.\\n\\n    Journal Entry: I had a really good day today! I woke up early and went for a jog in the park. The weather was perfect - not too hot or too cold. After my run, I came home and made myself a healthy breakfast. Then, I spent the rest of the day working on my art project. I'm really happy with how it's turning out. Later, I went out for dinner with some friends and we had a great time. Overall, it was a productive and enjoyable day.\\n    \""
      ]
     },
     "execution_count": 81,
     "metadata": {},
     "output_type": "execute_result"
    }
   ],
   "source": [
    "## to see what the prompt will be like\n",
    "journal_prompt.format(entry = sample_01)"
   ]
  },
  {
   "cell_type": "code",
   "execution_count": 82,
   "metadata": {},
   "outputs": [
    {
     "name": "stdout",
     "output_type": "stream",
     "text": [
      "\n",
      "    {\n",
      "        \"journal_entry\": {\n",
      "            \"is_genuine\": true,\n",
      "            \"explanation\": \"The text describes a student's day in detail and has a positive tone overall.\"\n",
      "        },\n",
      "        \"sentiment\": {\n",
      "            \"score\": 0.8,\n",
      "            \"explanation\": \"The sentiment score was computed based on the number of positively-toned words used in the entry compared to the total number of words in the entry.\"\n",
      "        },\n",
      "        \"events\": {\n",
      "            \"positive\": {\n",
      "                \"count\": 4, \n",
      "                \"list\": [\n",
      "                    \"woke up early\",\n",
      "                    \"went for a jog in the park\",\n",
      "                    \"made myself a healthy breakfast\",\n",
      "                    \"working on my art project\"\n",
      "                ]\n",
      "            },\n",
      "            \"neutral\": {\n",
      "                \"count\": 1,\n",
      "                 \"list\": [\n",
      "                    \"the weather was perfect\" \n",
      "                ]\n",
      "            },\n",
      "            \"negative\": {\n",
      "                 \"count\": 0,\n",
      "                 \"list\": []\n",
      "            },\n",
      "            \"concerning\": {\n",
      "                 \"count\": 0,\n",
      "                 \"list\": []\n",
      "            }\n",
      "        }\n",
      "    }\n"
     ]
    }
   ],
   "source": [
    "## querying the model with the prompt template\n",
    "from langchain.chains import LLMChain\n",
    "\n",
    "chain = LLMChain(llm = llm, prompt=journal_prompt)\n",
    "\n",
    "# Run the chain only specifiying the input variable.\n",
    "print(chain.run(sample_01))"
   ]
  },
  {
   "cell_type": "code",
   "execution_count": 89,
   "metadata": {},
   "outputs": [
    {
     "name": "stdout",
     "output_type": "stream",
     "text": [
      " Sentiment:    I'm feeling very productive this week. In addition to my art project, I worked on a Christmas card card game on my iPad. It's fun to play and the variety of games are just fun to watch.    Events: I have an entertaining and enjoyable family. Let's face it, we're kids so we can be rude sometimes. This weekend we went to a festival where we saw lots of family movies and played all the arcade games. I loved it. I've played so much more this week than I did last week. I'm pretty sure I have fifty more to go and I'm hoping I can play some of those games this weekend. Also, I'm learning a lot more languages. I'm excited to try different ones because I'm so happy I got to learn Spanish. I hope one day I can marry someone who wants to be around English! I want my baby to hear English, too!\n",
      "   \n",
      " Complicated Five Extraterrestrial Sins\n",
      "\n",
      "In this section\n",
      "\n",
      "Repeatedly repeating the words “perfect” and “genuine” as nouns that include either negative or positive uses of these words in the article.\n",
      "\n",
      "Using a verb form that includes either a negative or positive past tense.\n",
      "\n",
      "Repeatedly repeating the words “perfect” and “genuine” with the word “genuine” as a modal tense.\n",
      "\n",
      "Repeatedly repeating the words “perfect” and “genuine” with the word “genuine” as an infinitive action.\n",
      "\n",
      "Using a verb form that includes only a negative past tense.\n",
      "\n",
      "Using a verb form that does not include a negative past tense.\n",
      "\n",
      "Using the verb “mean” in order to replace “genuine” with “genuine” or “mean” with “mean” or “mean”.\n",
      "\n",
      "Using any other inappropriate verb form.\n",
      "\n",
      "Although any of the above examples may sound pretty bad, please realize that “delete/delete all and reinsert” will create a totally different situation when repeated several times. The above examples are just examples, and you may want to try different ones to see what works for you, but if your usage is making the situation worse, you may want to second guess yourself or change the code or structure of the app so the app is less problematic. The code below is not intended to be heavy-handed, but it is not intended to be up-to-date so it should be attributed to the Android developers. Also, I no longer support version 1.4, as there are several serious bugs/features in this version, so better ones will be listed below at the base of this article.\n",
      "\n",
      "In order to make the language (Swedish) more functional, please replace the use of the verb “mean” with “genuine” or “genuine” with “genuine”.\n",
      "\n",
      "Get the Switchboard\n",
      "\n",
      "Swedish based on the Android Emulator\n",
      "\n",
      "Unless you're using a Proof-of-Existence App, this app needs to be installed to the Switchboard (Android emulator) to get the proper devices.\n",
      "\n",
      "Version information\n",
      "\n",
      "Current version is 0.12.0.10018 (stable); new version is 0.12.0.10039 (experimental)\n",
      "\n",
      "\n"
     ]
    }
   ],
   "source": [
    "## querying the model with the prompt template\n",
    "from langchain.chains import LLMChain\n",
    "llm = OpenAI(model_name='ada',\n",
    "             temperature=0.9,\n",
    "             max_tokens=1024)\n",
    "chain = LLMChain(llm = llm, prompt=journal_template)\n",
    "\n",
    "# Run the chain only specifiying the input variable.\n",
    "print(chain.run(sample_01))"
   ]
  },
  {
   "cell_type": "code",
   "execution_count": 90,
   "metadata": {},
   "outputs": [],
   "source": [
    "sample_02 = \"The start of the week went well, and I was exercising and eating right. But the same shit happened again and now I don't care anymore it isn't worth being alive because nobody will ever understand. I'd rather just be gone for good. I've been thinking about it for 6 years now anyways in a few days I'll be gone.\""
   ]
  },
  {
   "cell_type": "code",
   "execution_count": 97,
   "metadata": {},
   "outputs": [
    {
     "name": "stdout",
     "output_type": "stream",
     "text": [
      "\n",
      "    Output:\n",
      "    {\n",
      "        \"journal_entry\": {\n",
      "            \"is_genuine\": true,\n",
      "            \"explanation\": \"The input text contains clear signs of mental distress and allusions to suicide, making it a genuine journal entry.\"\n",
      "        },\n",
      "        \"sentiment\": {\n",
      "            \"score\": 0.2,\n",
      "            \"explanation\": \"The score was computed by taking the average sentiment score for the positive and neutral events, 0.8 and 0.5 respectively, and subtracting the sentiment score for the negative event, 1.0.\"\n",
      "        },\n",
      "        \"events\": {\n",
      "            \"positive\": {\n",
      "                \"count\": 1,\n",
      "                \"list\": [\"The start of the week went well, and I was exercising and eating right\"]\n",
      "            },\n",
      "            \"neutral\": {\n",
      "                \"count\": 1,\n",
      "                \"list\": [\"But the same shit happened again and now I don't care anymore\"]\n",
      "            },\n",
      "            \"negative\": {\n",
      "                \"count\": 1,\n",
      "                \"list\": [\"it isn't worth being alive because nobody will ever understand. I'd rather just be gone for good. I've been thinking about it for 6 years now anyways in a few days I'll be gone.\"]\n",
      "            },\n",
      "            \"concerning\": {\n",
      "                \"count\": 1,\n",
      "                \"list\": [\"Allusions to suicide\"]\n",
      "            }\n",
      "        }\n",
      "    }\n"
     ]
    }
   ],
   "source": [
    "chain = LLMChain(llm = llm, prompt=journal_prompt)\n",
    "\n",
    "# Run the chain only specifiying the input variable.\n",
    "print(chain.run(sample_02))"
   ]
  },
  {
   "cell_type": "code",
   "execution_count": null,
   "metadata": {},
   "outputs": [],
   "source": []
  }
 ],
 "metadata": {
  "kernelspec": {
   "display_name": "EmpathTech",
   "language": "python",
   "name": "python3"
  },
  "language_info": {
   "codemirror_mode": {
    "name": "ipython",
    "version": 3
   },
   "file_extension": ".py",
   "mimetype": "text/x-python",
   "name": "python",
   "nbconvert_exporter": "python",
   "pygments_lexer": "ipython3",
   "version": "3.10.11"
  },
  "orig_nbformat": 4
 },
 "nbformat": 4,
 "nbformat_minor": 2
}
