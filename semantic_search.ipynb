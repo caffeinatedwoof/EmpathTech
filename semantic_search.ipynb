{
 "cells": [
  {
   "cell_type": "code",
   "execution_count": 2,
   "metadata": {},
   "outputs": [],
   "source": [
    "from dbhandler import DBHandler\n",
    "from typing import Optional\n",
    "import datetime\n",
    "\n",
    "from langchain.prompts.chat import (ChatPromptTemplate,SystemMessagePromptTemplate,HumanMessagePromptTemplate,)\n",
    "from langchain.chains import RetrievalQAWithSourcesChain\n",
    "from langchain.chat_models import ChatOpenAI\n",
    "from langchain.vectorstores import Chroma\n",
    "from langchain.embeddings.openai import OpenAIEmbeddings\n",
    "from langchain.prompts.prompt import PromptTemplate\n",
    "\n",
    "def filter_journal_entries(student_name, start_date, end_date):\n",
    "\n",
    "    db_handler = DBHandler()\n",
    "\n",
    "    # Initialize empty lists to store all journal entries and metadatas\n",
    "    metadatas = []\n",
    "    journal_entries = []\n",
    "    \n",
    "    # Initialize student attributes\n",
    "    student = db_handler.get_student(student_name)\n",
    "    student_id = student['_id']  # Name of the student\n",
    "    class_ = student['class'] # Student's class \n",
    "\n",
    "    journals = db_handler.get_journal_entries(student_id)\n",
    "\n",
    "    # Iterate over all journal entries for the student\n",
    "    for journal in journals:\n",
    "        journal_id = journal['_id'] # ID of the journal entry\n",
    "        journal_title = journal['title']\n",
    "        journal_content = journal['content']\n",
    "        date = journal['date']\n",
    "\n",
    "        # Check if the journal entry falls within the date range\n",
    "        if start_date <= date <= end_date:\n",
    "            # Append to our journal entries list\n",
    "            metadatas.append({\n",
    "                'student_id': str(student_id),\n",
    "                'student_name': student_name,\n",
    "                'class': class_,\n",
    "                'source': str(journal_id),\n",
    "                'journal_title': journal_title,\n",
    "                'journal_date': str(date)}\n",
    "            )\n",
    "\n",
    "            # Append content only\n",
    "            journal_entries.append(journal_content)\n",
    "\n",
    "    return journal_entries, metadatas\n",
    "\n",
    "def convert_journal_entries_to_vectors(journal_entries, metadatas):\n",
    "    # Instantiate OpenAIEmbeddings\n",
    "    openai_embeddings = OpenAIEmbeddings(model='gpt-3.5-turbo')\n",
    "    vector_store = Chroma.from_texts(journal_entries, \n",
    "                                 embedding=openai_embeddings, \n",
    "                                 metadatas=metadatas)\n",
    "    return vector_store\n",
    "\n",
    "def process_query(question, vector_store, student_name):\n",
    "\n",
    "    system_template = f\"The student's name is {student_name}\" + \"\"\"Use the following pieces of context to answer the user's question.\\\n",
    "    No matter what the question is, you should always answer it in the context of the journal entries provided.\\\n",
    "    If possible, point the user to the journal entry where you obtained the information from. \\\n",
    "    Even if the question does not end in a question mark, you should still answer it as if it were a question.\\\n",
    "    If the question is not related to the student in question, reply \"Please ask me questions about the student in question\".\\\n",
    "    ----------------\n",
    "    {summaries}\"\"\"\n",
    "\n",
    "    messages = [\n",
    "        SystemMessagePromptTemplate.from_template(system_template),\n",
    "        HumanMessagePromptTemplate.from_template(\"{question}\"),\n",
    "    ]\n",
    "\n",
    "    prompt = ChatPromptTemplate.from_messages(messages)\n",
    "\n",
    "    language_model = ChatOpenAI(model_name=\"gpt-3.5-turbo\", temperature=0) \n",
    "\n",
    "    chain_type_kwargs = {\"prompt\": prompt}\n",
    "\n",
    "    chain = RetrievalQAWithSourcesChain.from_chain_type(\n",
    "        llm=language_model,\n",
    "        chain_type=\"stuff\",\n",
    "        retriever=vector_store.as_retriever(search_type=\"similarity\"),\n",
    "        return_source_documents=True,\n",
    "        chain_type_kwargs=chain_type_kwargs\n",
    "    )\n",
    "\n",
    "    result = chain(question)\n",
    "    return result"
   ]
  },
  {
   "cell_type": "code",
   "execution_count": 3,
   "metadata": {},
   "outputs": [],
   "source": [
    "def main(student_name, start_date, end_date, question):\n",
    "    journal_entries, metadatas = filter_journal_entries(student_name, start_date, end_date)\n",
    "    vector_store = convert_journal_entries_to_vectors(journal_entries, metadatas)\n",
    "    return process_query(question, vector_store, student_name)"
   ]
  },
  {
   "cell_type": "code",
   "execution_count": 4,
   "metadata": {},
   "outputs": [],
   "source": [
    "student_name = 'Li Wei Tan'\n",
    "start_date_str = '2023-02-15'\n",
    "start_date_obj = datetime.datetime.strptime(start_date_str, '%Y-%m-%d')\n",
    "end_date_str = '2023-04-15'\n",
    "end_date_obj = datetime.datetime.strptime(end_date_str, '%Y-%m-%d')"
   ]
  },
  {
   "cell_type": "code",
   "execution_count": 5,
   "metadata": {},
   "outputs": [
    {
     "name": "stderr",
     "output_type": "stream",
     "text": [
      "Using embedded DuckDB without persistence: data will be transient\n"
     ]
    },
    {
     "data": {
      "text/plain": [
       "{'question': 'Are there any issues about Li Wei that I, as a teacher, should be concerned about?',\n",
       " 'answer': 'There is no information in the provided journal entries that suggests any issues or concerns about Li Wei. In fact, Li Wei seems to prioritize self-care, social connections, and personal growth, which are all positive qualities for a student. Source: 645ca721f91d80b63f70aa61, 645ca721f91d80b63f70aa5f, 645ca722f91d80b63f70aa64, 645ca721f91d80b63f70aa60.',\n",
       " 'sources': '',\n",
       " 'source_documents': [Document(page_content=\"Today was a bit of a difficult day. I had a test in math class that I was really nervous about, and I didn't do as well as I had hoped. I was also feeling a bit overwhelmed with all the work I have to do for school. But I'm trying to stay positive and focus on the things I can do to make things better. I'm going to take some time to relax and do something I enjoy, and I'm going to try to get a good night's sleep so I can be ready for tomorrow.\", metadata={'student_id': '645c938e1f650332d007cf4e', 'student_name': 'Li Wei Tan', 'class': '', 'source': '645ca721f91d80b63f70aa61', 'journal_title': 'Freewriting', 'journal_date': '2023-03-12 00:00:00'}),\n",
       "  Document(page_content='I value creativity, kindness, and self-care. I believe that creativity is an important part of life, and that it should be nurtured and encouraged. I also believe that kindness is essential for a happy and healthy life, and that it should be practiced and shared. Lastly, I believe that self-care is important for physical and mental wellbeing, and that it should be prioritized.', metadata={'student_id': '645c938e1f650332d007cf4e', 'student_name': 'Li Wei Tan', 'class': '', 'source': '645ca721f91d80b63f70aa5f', 'journal_title': 'Cherished values', 'journal_date': '2023-02-15 00:00:00'}),\n",
       "  Document(page_content=\"I believe that social connections are important for our wellbeing. I try to make time to connect with my friends and family, and to reach out to people I haven't talked to in a while. I also try to be open to meeting new people and making new connections. I think it's important to have a strong support system, and to be able to rely on people when we need help. Social connections can also be a great source of joy and happiness.\", metadata={'student_id': '645c938e1f650332d007cf4e', 'student_name': 'Li Wei Tan', 'class': '', 'source': '645ca722f91d80b63f70aa64', 'journal_title': 'Social connections', 'journal_date': '2023-03-27 00:00:00'}),\n",
       "  Document(page_content='I try to practice self-care every day. I make sure to get enough sleep, eat healthy meals, and take time to relax and unwind. I also make sure to take time to do things I enjoy, like drawing, painting, and listening to music. I also try to take time to connect with friends and family, and to spend time in nature. All of these things help me to stay healthy and happy.', metadata={'student_id': '645c938e1f650332d007cf4e', 'student_name': 'Li Wei Tan', 'class': '', 'source': '645ca721f91d80b63f70aa60', 'journal_title': 'Self-care routines', 'journal_date': '2023-03-08 00:00:00'})]}"
      ]
     },
     "execution_count": 5,
     "metadata": {},
     "output_type": "execute_result"
    }
   ],
   "source": [
    "main(student_name, start_date_obj, end_date_obj, \"Are there any issues about Li Wei that I, as a teacher, should be concerned about?\")"
   ]
  },
  {
   "cell_type": "code",
   "execution_count": 6,
   "metadata": {},
   "outputs": [
    {
     "name": "stderr",
     "output_type": "stream",
     "text": [
      "Using embedded DuckDB without persistence: data will be transient\n"
     ]
    },
    {
     "data": {
      "text/plain": [
       "{'question': \"How would you describe Li Wei's sentiments or emotional health in this period?\",\n",
       " 'answer': 'Li Wei Tan seems to be someone who values creativity, kindness, and self-care. They try to practice self-care every day and make sure to take time to do things they enjoy. However, they also have difficult days, like the one described in the second journal entry, where they feel overwhelmed and nervous. Despite this, they try to stay positive and focus on the things they can do to make things better. Overall, Li Wei Tan seems to prioritize their emotional health and wellbeing.',\n",
       " 'sources': '',\n",
       " 'source_documents': [Document(page_content='I value creativity, kindness, and self-care. I believe that creativity is an important part of life, and that it should be nurtured and encouraged. I also believe that kindness is essential for a happy and healthy life, and that it should be practiced and shared. Lastly, I believe that self-care is important for physical and mental wellbeing, and that it should be prioritized.', metadata={'student_id': '645c938e1f650332d007cf4e', 'student_name': 'Li Wei Tan', 'class': '', 'source': '645ca721f91d80b63f70aa5f', 'journal_title': 'Cherished values', 'journal_date': '2023-02-15 00:00:00'}),\n",
       "  Document(page_content=\"Today was a bit of a difficult day. I had a test in math class that I was really nervous about, and I didn't do as well as I had hoped. I was also feeling a bit overwhelmed with all the work I have to do for school. But I'm trying to stay positive and focus on the things I can do to make things better. I'm going to take some time to relax and do something I enjoy, and I'm going to try to get a good night's sleep so I can be ready for tomorrow.\", metadata={'student_id': '645c938e1f650332d007cf4e', 'student_name': 'Li Wei Tan', 'class': '', 'source': '645ca721f91d80b63f70aa61', 'journal_title': 'Freewriting', 'journal_date': '2023-03-12 00:00:00'}),\n",
       "  Document(page_content='I try to practice self-care every day. I make sure to get enough sleep, eat healthy meals, and take time to relax and unwind. I also make sure to take time to do things I enjoy, like drawing, painting, and listening to music. I also try to take time to connect with friends and family, and to spend time in nature. All of these things help me to stay healthy and happy.', metadata={'student_id': '645c938e1f650332d007cf4e', 'student_name': 'Li Wei Tan', 'class': '', 'source': '645ca721f91d80b63f70aa60', 'journal_title': 'Self-care routines', 'journal_date': '2023-03-08 00:00:00'}),\n",
       "  Document(page_content=\"I believe that social connections are important for our wellbeing. I try to make time to connect with my friends and family, and to reach out to people I haven't talked to in a while. I also try to be open to meeting new people and making new connections. I think it's important to have a strong support system, and to be able to rely on people when we need help. Social connections can also be a great source of joy and happiness.\", metadata={'student_id': '645c938e1f650332d007cf4e', 'student_name': 'Li Wei Tan', 'class': '', 'source': '645ca722f91d80b63f70aa64', 'journal_title': 'Social connections', 'journal_date': '2023-03-27 00:00:00'})]}"
      ]
     },
     "execution_count": 6,
     "metadata": {},
     "output_type": "execute_result"
    }
   ],
   "source": [
    "main(student_name, start_date_obj, end_date_obj, \"How would you describe Li Wei's sentiments or emotional health in this period?\")"
   ]
  },
  {
   "cell_type": "code",
   "execution_count": null,
   "metadata": {},
   "outputs": [],
   "source": []
  }
 ],
 "metadata": {
  "kernelspec": {
   "display_name": "EmpathTech",
   "language": "python",
   "name": "python3"
  },
  "language_info": {
   "codemirror_mode": {
    "name": "ipython",
    "version": 3
   },
   "file_extension": ".py",
   "mimetype": "text/x-python",
   "name": "python",
   "nbconvert_exporter": "python",
   "pygments_lexer": "ipython3",
   "version": "3.10.10"
  },
  "orig_nbformat": 4
 },
 "nbformat": 4,
 "nbformat_minor": 2
}
